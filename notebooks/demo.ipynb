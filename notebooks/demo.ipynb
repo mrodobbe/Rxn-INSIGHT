{
 "cells": [
  {
   "cell_type": "markdown",
   "id": "e0adb9b4",
   "metadata": {},
   "source": "# 1. Import Rxn-INSIGHT"
  },
  {
   "cell_type": "code",
   "execution_count": null,
   "id": "4cedc8f2",
   "metadata": {},
   "outputs": [],
   "source": [
    "import pandas as pd\n",
    "import numpy as np\n",
    "from rxnmapper import RXNMapper\n",
    "\n",
    "from rxn_insight.reaction import Reaction\n",
    "from rxn_insight.utils import draw_chemical_reaction, curate_smirks, get_similarity, get_fp\n",
    "from IPython.display import SVG, display\n",
    "import time"
   ]
  },
  {
   "cell_type": "markdown",
   "id": "a364b95a",
   "metadata": {},
   "source": [
    "# 2. Load sample dataset"
   ]
  },
  {
   "cell_type": "code",
   "execution_count": null,
   "id": "9389b0a7",
   "metadata": {},
   "outputs": [],
   "source": [
    "df_uspto = pd.read_parquet(\"../data/example.gzip\")"
   ]
  },
  {
   "cell_type": "markdown",
   "id": "a78704d1",
   "metadata": {},
   "source": [
    "# 3. Evaluate single reaction"
   ]
  },
  {
   "cell_type": "code",
   "execution_count": null,
   "id": "0d3b4d7f",
   "metadata": {},
   "outputs": [],
   "source": [
    "rxn_mapper = RXNMapper()"
   ]
  },
  {
   "cell_type": "code",
   "execution_count": null,
   "id": "9e6b4e62",
   "metadata": {},
   "outputs": [],
   "source": [
    "r = df_uspto[\"REACTION\"][df_uspto.index[0]]\n",
    "solvent = df_uspto[\"SOLVENT\"][df_uspto.index[0]]\n",
    "reagent = df_uspto[\"REAGENT\"][df_uspto.index[0]]\n",
    "catalyst = df_uspto[\"CATALYST\"][df_uspto.index[0]]\n",
    "ref = df_uspto[\"REF\"][df_uspto.index[0]]"
   ]
  },
  {
   "cell_type": "code",
   "execution_count": null,
   "id": "4581405f",
   "metadata": {},
   "outputs": [],
   "source": [
    "display(SVG(draw_chemical_reaction(r)))"
   ]
  },
  {
   "cell_type": "code",
   "execution_count": null,
   "id": "d71546ae",
   "metadata": {},
   "outputs": [],
   "source": [
    "rxn = Reaction(r, solvent=solvent, reagent=reagent, catalyst=catalyst, ref=ref, rxn_mapper=rxn_mapper)"
   ]
  },
  {
   "cell_type": "markdown",
   "id": "55dc7f08",
   "metadata": {},
   "source": [
    "Get all information at once by running `get_reaction_info()`"
   ]
  },
  {
   "cell_type": "code",
   "execution_count": null,
   "id": "365d306f",
   "metadata": {},
   "outputs": [],
   "source": [
    "rxn.get_reaction_info()"
   ]
  },
  {
   "cell_type": "code",
   "execution_count": null,
   "id": "1eed892f",
   "metadata": {},
   "outputs": [],
   "source": [
    "rxn = '[CH3:1][O:2][C:3](=[O:4])[CH:5]=[CH2:6].I[c:7]1[cH:8][cH:9][cH:10][cH:11][cH:12]1>>[CH3:1][O:2][C:3](=[O:4])/[CH:5]=[CH:6]/[c:7]1[cH:8][cH:9][cH:10][cH:11][cH:12]1'"
   ]
  },
  {
   "cell_type": "code",
   "execution_count": null,
   "id": "91a73156",
   "metadata": {},
   "outputs": [],
   "source": [
    "rxn2 = Reaction(rxn, keep_mapping=True)\n",
    "rxn2.get_reaction_info()"
   ]
  },
  {
   "cell_type": "markdown",
   "id": "b8a0b8de",
   "metadata": {},
   "source": [
    "# 4. Evaluate multiple reactions"
   ]
  },
  {
   "cell_type": "code",
   "execution_count": null,
   "id": "2b833610",
   "metadata": {},
   "outputs": [],
   "source": [
    "import time"
   ]
  },
  {
   "cell_type": "code",
   "execution_count": null,
   "id": "e4b3c71e",
   "metadata": {},
   "outputs": [],
   "source": [
    "rxn_mapper = RXNMapper()\n",
    "smirks = pd.read_json(\"../src/rxn_insight/data/smirks.json\", orient='records', lines=True)\n",
    "smirks = curate_smirks(smirks)\n",
    "fg = pd.read_json(\"../src/rxn_insight/data/functional_groups.json\", orient='records', lines=True)"
   ]
  },
  {
   "cell_type": "code",
   "execution_count": null,
   "id": "396ffc71",
   "metadata": {},
   "outputs": [],
   "source": [
    "ids = np.random.choice(100, 10, replace=False)"
   ]
  },
  {
   "cell_type": "code",
   "execution_count": null,
   "id": "07dc8107",
   "metadata": {},
   "outputs": [],
   "source": [
    "for i in ids:\n",
    "    start_t = time.time()\n",
    "    r = df_uspto[\"REACTION\"][df_uspto.index[i]]\n",
    "    solvent = df_uspto[\"SOLVENT\"][df_uspto.index[i]]\n",
    "    reagent = df_uspto[\"REAGENT\"][df_uspto.index[i]]\n",
    "    catalyst = df_uspto[\"CATALYST\"][df_uspto.index[i]]\n",
    "    ref = df_uspto[\"REF\"][df_uspto.index[i]]\n",
    "    rxn = Reaction(r, solvent=solvent, reagent=reagent, catalyst=catalyst, ref=ref, rxn_mapper=rxn_mapper, smirks=smirks, fg=fg)\n",
    "    ri = rxn.get_reaction_info()\n",
    "    end_t = time.time()\n",
    "    dt = end_t - start_t\n",
    "    print(f\"{r}\\nClass: {rxn.reaction_class}\\nName: {rxn.name}\\nTime: {dt:.2f} seconds\\n====\\n\")"
   ]
  },
  {
   "cell_type": "markdown",
   "id": "a413a795",
   "metadata": {},
   "source": [
    "# 5. Find similar reactions"
   ]
  },
  {
   "cell_type": "code",
   "execution_count": null,
   "id": "2d10e7f1",
   "metadata": {},
   "outputs": [],
   "source": [
    "# df_analyzed = pd.read_parquet(\"data/uspto.gzip\")\n",
    "df_analyzed = pd.read_parquet(\"../data/1000rxns.gzip\")"
   ]
  },
  {
   "cell_type": "code",
   "execution_count": null,
   "id": "f5a1b202",
   "metadata": {},
   "outputs": [],
   "source": [
    "df_analyzed.keys()"
   ]
  },
  {
   "cell_type": "code",
   "execution_count": null,
   "id": "74e8ba78",
   "metadata": {},
   "outputs": [],
   "source": [
    "df_uspto = df_analyzed.sample(1000)"
   ]
  },
  {
   "cell_type": "code",
   "execution_count": null,
   "id": "01c3e693",
   "metadata": {},
   "outputs": [],
   "source": [
    "r = \"N#Cc1ccc(C=O)cc1.Nc1ccccc1S>>N#Cc1ccc(-c2nc3ccccc3s2)cc1\"\n",
    "r = \"BrCCBr.COC(=O)c1cccc(O)c1>>COC(=O)c1cccc(OCCBr)c1\""
   ]
  },
  {
   "cell_type": "code",
   "execution_count": null,
   "id": "1dd7c6e3",
   "metadata": {},
   "outputs": [],
   "source": [
    "display(SVG(draw_chemical_reaction(r)))"
   ]
  },
  {
   "cell_type": "code",
   "execution_count": null,
   "id": "84215a3a",
   "metadata": {},
   "outputs": [],
   "source": [
    "rxn = Reaction(r)"
   ]
  },
  {
   "cell_type": "code",
   "execution_count": null,
   "id": "4ca2a971-0b78-4ff0-bb28-405eb8680c44",
   "metadata": {},
   "outputs": [],
   "source": [
    "df_analyzed"
   ]
  },
  {
   "cell_type": "code",
   "execution_count": null,
   "id": "c11bbee2",
   "metadata": {},
   "outputs": [],
   "source": [
    "rxn.get_reaction_info()"
   ]
  },
  {
   "cell_type": "code",
   "execution_count": null,
   "id": "31d79856",
   "metadata": {},
   "outputs": [],
   "source": [
    "st = time.time()\n",
    "df_nbs = rxn.find_neighbors(df_analyzed, fp=\"MACCS\", concatenate=True, threshold=0.0, broaden=True, full_search=False)\n",
    "print(f\"{time.time() - st:.2f} seconds\")"
   ]
  },
  {
   "cell_type": "code",
   "execution_count": null,
   "id": "94ff9c45",
   "metadata": {},
   "outputs": [],
   "source": [
    "get_similarity(get_fp(r, \"MACCS\", True), get_fp(df_nbs[\"REACTION\"][1043625], \"MACCS\", True))"
   ]
  },
  {
   "cell_type": "code",
   "execution_count": null,
   "id": "32f1dbbe",
   "metadata": {},
   "outputs": [],
   "source": [
    "get_similarity(get_fp(r, \"MACCS\", False), get_fp(df_nbs[\"REACTION\"][1043625], \"MACCS\", False))"
   ]
  },
  {
   "cell_type": "code",
   "execution_count": null,
   "id": "dbfbc0b2",
   "metadata": {},
   "outputs": [],
   "source": [
    "get_similarity(get_fp(r, \"Morgan\", True), get_fp(df_nbs[\"REACTION\"][1043625], \"Morgan\", True))"
   ]
  },
  {
   "cell_type": "code",
   "execution_count": null,
   "id": "bf9f6245",
   "metadata": {},
   "outputs": [],
   "source": [
    "get_similarity(get_fp(r, \"Morgan\", False), get_fp(df_nbs[\"REACTION\"][1043625], \"Morgan\", False))"
   ]
  },
  {
   "cell_type": "code",
   "execution_count": null,
   "id": "3806e47c",
   "metadata": {},
   "outputs": [],
   "source": [
    "display(SVG(draw_chemical_reaction(df_nbs[\"REACTION\"][1043625])))"
   ]
  },
  {
   "cell_type": "code",
   "execution_count": null,
   "id": "0c2f43e7",
   "metadata": {},
   "outputs": [],
   "source": [
    "display(SVG(draw_chemical_reaction(df_nbs[\"REACTION\"][df_nbs.index[2]])))"
   ]
  },
  {
   "cell_type": "markdown",
   "id": "db366ef1",
   "metadata": {},
   "source": [
    "# 6. Suggest conditions"
   ]
  },
  {
   "cell_type": "code",
   "execution_count": null,
   "id": "787bb8e6",
   "metadata": {},
   "outputs": [],
   "source": [
    "rxn.suggest_conditions(df_analyzed)"
   ]
  },
  {
   "cell_type": "markdown",
   "id": "e6a91d4b",
   "metadata": {},
   "source": [
    "## 6.1 Show ranking of reagents"
   ]
  },
  {
   "cell_type": "code",
   "execution_count": null,
   "id": "f8a14988",
   "metadata": {},
   "outputs": [],
   "source": [
    "rxn.suggested_solvent"
   ]
  },
  {
   "cell_type": "code",
   "execution_count": null,
   "id": "b6a5bc70",
   "metadata": {},
   "outputs": [],
   "source": [
    "rxn.suggested_catalyst"
   ]
  },
  {
   "cell_type": "code",
   "execution_count": null,
   "id": "ac7a6c42",
   "metadata": {},
   "outputs": [],
   "source": [
    "rxn.suggested_reagent"
   ]
  },
  {
   "cell_type": "markdown",
   "id": "b4ea402f",
   "metadata": {},
   "source": [
    "# 7. Extract all scaffolds"
   ]
  },
  {
   "cell_type": "code",
   "execution_count": null,
   "id": "df1fac58",
   "metadata": {},
   "outputs": [],
   "source": [
    "df_uspto = pd.read_parquet(\"data/example.gzip\")\n",
    "df_uspto.head()"
   ]
  },
  {
   "cell_type": "markdown",
   "id": "d5c18400",
   "metadata": {},
   "source": [
    "## 7.1 Reading in the reaction (slow)"
   ]
  },
  {
   "cell_type": "code",
   "execution_count": null,
   "id": "11a0eb9a",
   "metadata": {},
   "outputs": [],
   "source": [
    "start_t = time.time()\n",
    "rxn_mapper = RXNMapper()\n",
    "scaffolds = []\n",
    "for i in tqdm(df_uspto.index):\n",
    "    try:\n",
    "        r = df_uspto[\"REACTION\"][i]\n",
    "        rxn = Reaction(r, rxn_mapper=rxn_mapper)\n",
    "        scaffold = rxn.get_scaffold()\n",
    "        scaffolds.append(scaffold)\n",
    "    except KeyboardInterrupt:\n",
    "        raise\n",
    "    except Exception as e:\n",
    "        print(e)\n",
    "        continue\n",
    "end_t = time.time()\n",
    "dt = end_t - start_t\n",
    "print(f\"There are {len(list(set(scaffolds)))} unique scaffolds on a total of {len(scaffolds)} scaffolds, which we found in {dt:.1f} seconds.\")"
   ]
  },
  {
   "cell_type": "markdown",
   "id": "628c7c93",
   "metadata": {},
   "source": [
    "## 7.2 Reading in the molecule (fast)"
   ]
  },
  {
   "cell_type": "code",
   "execution_count": null,
   "id": "33e24c08",
   "metadata": {},
   "outputs": [],
   "source": [
    "start_t = time.time()\n",
    "scaffolds = []\n",
    "for i in tqdm(df_uspto.index):\n",
    "    try:\n",
    "        r = df_uspto[\"REACTION\"][i]\n",
    "        smi = r.split(\">>\")[1]\n",
    "        m = Molecule(smi)\n",
    "        scaffold = m.scaffold\n",
    "        scaffolds.append(scaffold)\n",
    "    except KeyboardInterrupt:\n",
    "        raise\n",
    "    except Exception as e:\n",
    "        print(e)\n",
    "        continue\n",
    "end_t = time.time()\n",
    "dt = end_t - start_t\n",
    "print(f\"There are {len(list(set(scaffolds)))} unique scaffolds on a total of {len(scaffolds)} scaffolds, which we found in {dt:.1f} seconds.\")"
   ]
  },
  {
   "cell_type": "markdown",
   "id": "60fbdfba",
   "metadata": {},
   "source": [
    "# 8. Search reactions by molecule"
   ]
  },
  {
   "cell_type": "code",
   "execution_count": null,
   "id": "a322b72e",
   "metadata": {},
   "outputs": [],
   "source": [
    "loperamide = \"ClC1=CC=C(C2(CCN(CC2)CCC(C3=CC=CC=C3)(C(N(C)C)=O)C4=CC=CC=C4)O)C=C1\""
   ]
  },
  {
   "cell_type": "code",
   "execution_count": null,
   "id": "d1446b2e",
   "metadata": {},
   "outputs": [],
   "source": [
    "m = Molecule(loperamide)"
   ]
  },
  {
   "cell_type": "code",
   "execution_count": null,
   "id": "bbe4a147",
   "metadata": {},
   "outputs": [],
   "source": [
    "m.smiles"
   ]
  },
  {
   "cell_type": "code",
   "execution_count": null,
   "id": "6b3160d2",
   "metadata": {},
   "outputs": [],
   "source": [
    "# Search for the exact compound\n",
    "m.search_reactions(df_analyzed)"
   ]
  },
  {
   "cell_type": "code",
   "execution_count": null,
   "id": "6c639c81",
   "metadata": {
    "scrolled": true
   },
   "outputs": [],
   "source": [
    "# Search for the exact scaffold\n",
    "m.search_reactions_by_scaffold(df_analyzed)"
   ]
  }
 ],
 "metadata": {
  "kernelspec": {
   "display_name": "Python 3 (ipykernel)",
   "language": "python",
   "name": "python3"
  },
  "language_info": {
   "codemirror_mode": {
    "name": "ipython",
    "version": 3
   },
   "file_extension": ".py",
   "mimetype": "text/x-python",
   "name": "python",
   "nbconvert_exporter": "python",
   "pygments_lexer": "ipython3",
   "version": "3.10.14"
  }
 },
 "nbformat": 4,
 "nbformat_minor": 5
}
